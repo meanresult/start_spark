{
 "cells": [
  {
   "cell_type": "code",
   "execution_count": 1,
   "id": "e26c921a-b57c-466f-945f-e439b3e35663",
   "metadata": {},
   "outputs": [],
   "source": [
    "# 1. 스파크 세션(SparkSession) 만들기\n",
    "from pyspark.sql import SparkSession\n",
    "\n",
    "# \"restaurant-review-average\"이라는 이름으로 스파크 프로그램 시작\n",
    "#  스파크를 내 컴퓨터에서(local) 실행하겠다는 의미입니다.\n",
    "spark = SparkSession.builder \\\n",
    "    .appName(\"restaurant-review-average\") \\\n",
    "    .master(\"local[*]\") \\\n",
    "    .getOrCreate()"
   ]
  },
  {
   "cell_type": "code",
   "execution_count": 2,
   "id": "1623b2b3-1c0b-471e-b77b-0cfa4f1b8b2e",
   "metadata": {},
   "outputs": [],
   "source": [
    "sc = spark.sparkContext  # 필요 시 RDD API를 위해 사용"
   ]
  },
  {
   "cell_type": "markdown",
   "id": "eebfb425-66f2-4a55-bacb-33220dadabfd",
   "metadata": {},
   "source": [
    "# Reduce\n",
    "RDD.reduce(<func>)\n",
    "사용자가 지정하는 함수를 받아 여러 개의 값을 하나로 줄여줍니다."
   ]
  },
  {
   "cell_type": "code",
   "execution_count": 3,
   "id": "ab8647d5-7750-4147-bce8-20d370b8242b",
   "metadata": {},
   "outputs": [],
   "source": [
    "from operator import add"
   ]
  },
  {
   "cell_type": "code",
   "execution_count": 10,
   "id": "6040097d-12ed-4dcd-99a1-1236896d23e8",
   "metadata": {},
   "outputs": [
    {
     "data": {
      "text/plain": [
       "ParallelCollectionRDD[7] at readRDDFromFile at PythonRDD.scala:289"
      ]
     },
     "execution_count": 10,
     "metadata": {},
     "output_type": "execute_result"
    }
   ],
   "source": [
    "sample_rdd = sc.parallelize([1, 2, 3, 4, 5])\n",
    "sample_rdd"
   ]
  },
  {
   "cell_type": "code",
   "execution_count": 13,
   "id": "91b28fc9-be55-4fcc-b2ad-e9989f092d03",
   "metadata": {},
   "outputs": [
    {
     "data": {
      "text/plain": [
       "15"
      ]
     },
     "execution_count": 13,
     "metadata": {},
     "output_type": "execute_result"
    }
   ],
   "source": [
    "#RDD에 있는 숫자의 합계를 계산: [1, 2, 3, 4, 5] =15\n",
    "sample_rdd.reduce(add)"
   ]
  },
  {
   "cell_type": "code",
   "execution_count": 6,
   "id": "c474cbe4-5a4a-4c81-89d5-65706aed9abc",
   "metadata": {},
   "outputs": [
    {
     "data": {
      "text/plain": [
       "18"
      ]
     },
     "execution_count": 6,
     "metadata": {},
     "output_type": "execute_result"
    }
   ],
   "source": [
    "sample_rdd = sc.parallelize([1, 2, 3, 4])\n",
    "sample_rdd.reduce(lambda x, y : (x * 2)+ y)"
   ]
  },
  {
   "cell_type": "code",
   "execution_count": null,
   "id": "4855f0b8-efcb-441e-9e76-e255ae3c2335",
   "metadata": {},
   "outputs": [],
   "source": [
    "sc.parallelize([1, 2, 3, 4], 2).reduce(lambda x, y : (x * 2) + y)"
   ]
  },
  {
   "cell_type": "code",
   "execution_count": null,
   "id": "27cb6a49-f524-4290-a70e-3f138ae221d9",
   "metadata": {},
   "outputs": [],
   "source": [
    "# 파티션을 3개로 지정"
   ]
  },
  {
   "cell_type": "code",
   "execution_count": 14,
   "id": "f42ea601-ca57-43b6-bcda-6f8d35eac318",
   "metadata": {},
   "outputs": [
    {
     "data": {
      "text/plain": [
       "18"
      ]
     },
     "execution_count": 14,
     "metadata": {},
     "output_type": "execute_result"
    }
   ],
   "source": [
    "sc.parallelize([1, 2, 3, 4], 3).reduce(lambda x, y : (x * 2) + y)"
   ]
  },
  {
   "cell_type": "code",
   "execution_count": 15,
   "id": "121b40eb-4a12-44d0-a9ee-8cf56d2cc1f0",
   "metadata": {},
   "outputs": [
    {
     "data": {
      "text/plain": [
       "26"
      ]
     },
     "execution_count": 15,
     "metadata": {},
     "output_type": "execute_result"
    }
   ],
   "source": [
    "sc.parallelize([1, 2, 3, 4], 1).reduce(lambda x, y : (x * 2) + y)"
   ]
  },
  {
   "cell_type": "code",
   "execution_count": null,
   "id": "232e6e68-d87c-4f3c-a923-d480b7a242a6",
   "metadata": {},
   "outputs": [],
   "source": [
    "# Fold\n",
    "RDD.fold(zeroValue, <func>)\n",
    "reduce와 비슷하지만, zeroValue에 넣어놓고 싶은 시작값을 지정해서 reduce가 가능\n",
    "zeroValue는 파티션 마다 계산이 일어날 때 하나씩 더해지는 값\n",
    "fold()를 사용하여 합계를 구하되, 초기값을 지정"
   ]
  },
  {
   "cell_type": "code",
   "execution_count": null,
   "id": "67f54511-522e-4f59-8e55-ed1a08a681f9",
   "metadata": {},
   "outputs": [],
   "source": [
    "rdd = sc.parallelize([2, 3, 4], 4)\n",
    "\n",
    "#숫자의 곱을 계산해서 합한다\n",
    "print(rdd.reduce(lambda x, y : (x * y))) # 2 x 3 -> x 4\n",
    "print(rdd.fold(1, lambda x , y : (x * y))) # 1 x 2 x 3 x 4"
   ]
  },
  {
   "cell_type": "code",
   "execution_count": null,
   "id": "eb207c27-7940-4bb8-8e28-d6ba58d7b425",
   "metadata": {},
   "outputs": [],
   "source": [
    "rdd.fold(2, lambda x , y : (x * y)) \n",
    "# 초기값 2 지정 :: 2x2 , 2x3, 2x4, \"\" > 4 , 6, 8, \"\" \n",
    "# 다시 초기값 2 지정 :: 4x2*6, 48x2*8, \"\" > 768"
   ]
  },
  {
   "cell_type": "code",
   "execution_count": null,
   "id": "47cebcba-00f4-48bc-844b-73bfb4756719",
   "metadata": {},
   "outputs": [],
   "source": [
    "print(rdd.reduce(lambda x, y : x + y)) \n",
    "print(rdd.fold(1, lambda x, y : x + y)) "
   ]
  },
  {
   "cell_type": "code",
   "execution_count": null,
   "id": "1edf0c5f-1a55-433b-9470-94a086c711fe",
   "metadata": {},
   "outputs": [],
   "source": []
  },
  {
   "cell_type": "code",
   "execution_count": null,
   "id": "556330e0-7e38-4601-9d66-7e65ae2b2ba0",
   "metadata": {},
   "outputs": [],
   "source": [
    "# 대규모 숫자 데이터셋 생성\n",
    "numbers_rdd = sc.parallelize(range(1, 1000001))\n",
    "\n",
    "# fold를 사용하여 총합계 계산\n",
    "total_sum = numbers_rdd.fold(0, lambda x, y: x + y)\n",
    "\n",
    "print(f\"Total sum: {total_sum}\")"
   ]
  },
  {
   "cell_type": "code",
   "execution_count": null,
   "id": "490ccafd-fe25-4a6c-8c8e-03759e599c21",
   "metadata": {},
   "outputs": [],
   "source": [
    "# 직원 급여 데이터\n",
    "salaries_rdd = sc.parallelize([50000, 60000, 55000, 75000, 65000, 80000])\n",
    "\n",
    "# fold를 사용하여 최대 급여 찾기\n",
    "max_salary = salaries_rdd.fold(0, lambda x, y: max(x, y))\n",
    "\n",
    "print(f\"Maximum salary: {max_salary}\")"
   ]
  },
  {
   "cell_type": "code",
   "execution_count": null,
   "id": "314ec7fe-12b5-4268-b026-2b1848e9be25",
   "metadata": {},
   "outputs": [],
   "source": [
    "# 부서별 직원 급여 데이터\n",
    "dept_salaries = [(\"IT\", 50000), (\"HR\", 45000), (\"IT\", 60000), \n",
    "                 (\"Finance\", 55000), (\"HR\", 50000), (\"IT\", 65000)]\n",
    "dept_rdd = sc.parallelize(dept_salaries)\n",
    "\n",
    "# foldByKey를 사용하여 부서별 최대 급여 찾기\n",
    "max_salary_by_dept = dept_rdd.foldByKey(0, lambda x, y: max(x, y))\n",
    "\n",
    "print(\"Maximum salary by department:\")\n",
    "for dept, max_salary in max_salary_by_dept.collect():\n",
    "    print(f\"{dept}: {max_salary}\")"
   ]
  },
  {
   "cell_type": "code",
   "execution_count": null,
   "id": "69b9d8d0-0420-486a-9c28-b96218a9194f",
   "metadata": {},
   "outputs": [],
   "source": []
  },
  {
   "cell_type": "markdown",
   "id": "f9570cfc-488d-473e-88ab-a362ee88533d",
   "metadata": {},
   "source": [
    "# GroupBy\n",
    "RDD.groupBy(<func>)\n",
    "그룹핑 함수를 받아 reduction\n",
    "groupBy() 메서드는 주어진 함수를 기준으로 RDD의 요소들을 그룹화합니다."
   ]
  },
  {
   "cell_type": "code",
   "execution_count": 16,
   "id": "27e5543e-64c3-4e7c-bb80-b9eb26d521f3",
   "metadata": {},
   "outputs": [
    {
     "data": {
      "text/plain": [
       "[(0, [2, 8]), (1, [1, 1, 3, 5])]"
      ]
     },
     "execution_count": 16,
     "metadata": {},
     "output_type": "execute_result"
    }
   ],
   "source": [
    "rdd = sc.parallelize([1, 1, 2, 3, 5, 8])\n",
    "result = rdd.groupBy(lambda x : x % 2).collect()\n",
    "\n",
    "sorted([(x, sorted(y)) for (x, y) in result])"
   ]
  },
  {
   "cell_type": "code",
   "execution_count": null,
   "id": "7c8245dd-19e3-41d9-8fa2-2a88d101ad1b",
   "metadata": {},
   "outputs": [],
   "source": [
    "[(x, sorted(y)) for (x, y) in result]"
   ]
  },
  {
   "cell_type": "code",
   "execution_count": null,
   "id": "ec2675af-d8c1-47ac-b7dd-a74a9cabd233",
   "metadata": {},
   "outputs": [],
   "source": []
  },
  {
   "cell_type": "code",
   "execution_count": 17,
   "id": "d9f81a4e-fdfa-4489-940c-0f5954c35d0b",
   "metadata": {},
   "outputs": [],
   "source": [
    "#판매 데이터 분석 (카테고리별 총 매출 계산)\n",
    "sales_data = [\n",
    "    (\"Electronics\", 1000),\n",
    "    (\"Clothing\", 500),\n",
    "    (\"Electronics\", 1500),\n",
    "    (\"Books\", 300),\n",
    "    (\"Clothing\", 750),\n",
    "    (\"Books\", 200)\n",
    "]"
   ]
  },
  {
   "cell_type": "code",
   "execution_count": 18,
   "id": "f803df33-d596-429b-8496-3762ff41529e",
   "metadata": {},
   "outputs": [
    {
     "name": "stdout",
     "output_type": "stream",
     "text": [
      "Clothing: $1250\n",
      "Electronics: $2500\n",
      "Books: $500\n"
     ]
    }
   ],
   "source": [
    "# RDD 생성\n",
    "sales_rdd = sc.parallelize(sales_data)\n",
    "\n",
    "# 카테고리별 총 매출 계산\n",
    "category_sales = sales_rdd.groupBy(lambda x: x[0]) \\\n",
    "    .mapValues(lambda values: sum(item[1] for item in values)) \\\n",
    "    .collect()\n",
    "\n",
    "# 결과 출력\n",
    "for category, total_sales in category_sales:\n",
    "    print(f\"{category}: ${total_sales}\")"
   ]
  },
  {
   "cell_type": "code",
   "execution_count": null,
   "id": "391f2226-f712-46c2-9649-b66838c63e39",
   "metadata": {},
   "outputs": [],
   "source": []
  },
  {
   "cell_type": "code",
   "execution_count": 19,
   "id": "3fe5d876-af69-4842-8740-42657791b3c6",
   "metadata": {},
   "outputs": [],
   "source": [
    "#로그 데이터 처리 (IP 주소별 접속 횟수 분석)\n",
    "# SparkContext 생성 가정 (sc)\n",
    "log_data = [\n",
    "    (\"192.168.1.1\", \"login\"),\n",
    "    (\"192.168.1.2\", \"purchase\"),\n",
    "    (\"192.168.1.1\", \"view\"),\n",
    "    (\"192.168.1.3\", \"login\"),\n",
    "    (\"192.168.1.2\", \"login\"),\n",
    "    (\"192.168.1.1\", \"purchase\")\n",
    "]\n",
    "\n",
    "# RDD 생성\n",
    "log_rdd = sc.parallelize(log_data)\n"
   ]
  },
  {
   "cell_type": "code",
   "execution_count": 36,
   "id": "615875cb-47dd-4507-a38e-77cc8f21df26",
   "metadata": {},
   "outputs": [
    {
     "data": {
      "text/plain": [
       "[('192.168.1.1', ['login', 'view', 'purchase']),\n",
       " ('192.168.1.2', ['purchase', 'login']),\n",
       " ('192.168.1.3', ['login'])]"
      ]
     },
     "execution_count": 36,
     "metadata": {},
     "output_type": "execute_result"
    }
   ],
   "source": [
    "category_log = log_rdd.groupBy(lambda x: x[0]) \\\n",
    "    .mapValues(lambda values: [for item in values]) \\\n",
    "    .collect()\n",
    "category_log"
   ]
  },
  {
   "cell_type": "code",
   "execution_count": 41,
   "id": "33393710-8a8f-415b-b341-7678791ea53e",
   "metadata": {},
   "outputs": [
    {
     "data": {
      "text/plain": [
       "[('192.168.1.1', 1), ('192.168.1.2', 1), ('192.168.1.3', 1)]"
      ]
     },
     "execution_count": 41,
     "metadata": {},
     "output_type": "execute_result"
    }
   ],
   "source": [
    "category_log = log_rdd.groupBy(lambda x: x[0]) \\\n",
    "    .mapValues(lambda values: len([item for item in values if item[1] == \"login\"])) \\\n",
    "    .collect()\n",
    "category_log"
   ]
  },
  {
   "cell_type": "code",
   "execution_count": 20,
   "id": "4bc1e1d2-7dc9-4ce2-9675-ecec6db95e21",
   "metadata": {},
   "outputs": [],
   "source": [
    "#학생 성적 데이터 분석 (과목별 평균 성적 계산)\n",
    "# SparkContext 생성 가정 (sc)\n",
    "student_grades = [\n",
    "    (\"Math\", 85),\n",
    "    (\"English\", 90),\n",
    "    (\"Math\", 92),\n",
    "    (\"Science\", 88),\n",
    "    (\"English\", 95),\n",
    "    (\"Science\", 82)\n",
    "]\n",
    "\n",
    "# RDD 생성\n",
    "grades_rdd = sc.parallelize(student_grades)\n"
   ]
  },
  {
   "cell_type": "code",
   "execution_count": 25,
   "id": "54d6accf-2d3e-4e00-94b0-7a2a7ae72d9f",
   "metadata": {},
   "outputs": [
    {
     "data": {
      "text/plain": [
       "[('Science', 170), ('Math', 177), ('English', 185)]"
      ]
     },
     "execution_count": 25,
     "metadata": {},
     "output_type": "execute_result"
    }
   ],
   "source": [
    "sub_grade = grades_rdd.groupBy(lambda x: x[0])\\\n",
    "            .mapValues(lambda val: sum(i[1] for i in val))\\\n",
    "            .collect()\n",
    "\n",
    "sub_grade"
   ]
  },
  {
   "cell_type": "code",
   "execution_count": null,
   "id": "a33f4b31-3e1e-4c3d-bdb4-e04f223806ab",
   "metadata": {},
   "outputs": [],
   "source": []
  },
  {
   "cell_type": "markdown",
   "id": "62326558-179f-4c00-82bb-d2d0ed6c80c5",
   "metadata": {},
   "source": [
    "# 5. aggregate 함수 사용 예제\n",
    "\n",
    "<details>\n",
    "<summary>필요성</summary>\n",
    "✅ 먼저, 왜 aggregate()가 필요할까?   \n",
    "보통 RDD에 reduce()를 쓰면 하나의 값으로 줄이는데, 두 가지 이상의 결과(예: 합계 + 개수)를 동시에 계산하고 싶을 때는 reduce()로는 부족해.   \n",
    "그래서 튜플이나 구조화된 형태로 집계할 수 있는 aggregate()를 사용하는 거야.\n",
    "</details>\n",
    "\n",
    "<details>\n",
    "<summary>개념설명</summary>\n",
    "🧠 핵심 부분: 평균 계산   \n",
    "python\n",
    "```\n",
    "sum_count = numbers.aggregate(\n",
    "    (0, 0),  # 초기값 (합계, 개수)\n",
    "\n",
    "    lambda acc, value: (acc[0] + value, acc[1] + 1),  # 파티션 내부 연산\n",
    "\n",
    "    lambda acc1, acc2: (acc1[0] + acc2[0], acc1[1] + acc2[1])  # 파티션 간 합산\n",
    ")\n",
    "```\n",
    "\n",
    "🧩 쉽게 말해 이런 식으로 동작함:   \n",
    "각 파티션에서:   \n",
    "값을 하나씩 받아서 (합계, 개수)를 누적한다.\n",
    "\n",
    "모든 파티션이 끝나면:   \n",
    "각 파티션의 (합계, 개수) 결과를 전부 더해서 최종 합계와 개수를 만든다.\n",
    "\n",
    "🔢 예시로 계산해보자\n",
    "```\n",
    "RDD = [1, 5, 3, 9, 2, 8, 4, 7, 6]\n",
    "3개의 파티션 예시 (내부 분배는 Spark가 결정):\n",
    "\n",
    "P0: [1, 5, 3] → 합: 9, 개수: 3\n",
    "\n",
    "P1: [9, 2, 8] → 합: 19, 개수: 3\n",
    "\n",
    "P2: [4, 7, 6] → 합: 17, 개수: 3\n",
    "\n",
    "최종 합산:\n",
    "```\n",
    "```\n",
    "python\n",
    "(9 + 19 + 17, 3 + 3 + 3) = (45, 9)\n",
    "✅ 최종 결과\n",
    "sum_count = (45, 9)\n",
    "→ 평균은 직접 계산하면 돼:\n",
    "```\n",
    "```\n",
    "python\n",
    "avg = sum_count[0] / sum_count[1]  # 45 / 9 = 5.0\n",
    "```\n",
    "📌 핵심 요약\n",
    "| 용도 | 동시에 여러 개의 결과값을 누적할 때 |\n",
    "| 함수 구조 | aggregate(초기값, 파티션 내 연산, 파티션 간 합산) |\n",
    "| 활용 예시 | 평균, 표준편차, 누적 count 등 |\n",
    "| 이점 | reduce()보다 유연하며 구조화된 데이터 처리에 적합 |\n",
    "\n",
    "🎯 비유로 설명하자면…\n",
    "회사의 3개 부서에서 월급 총합과 인원수를 각각 계산하고\n",
    "\n",
    "나중에 부서별 결과를 합산해서 전체 평균 월급을 구하는 방식과 같아\n",
    "\n",
    "\n",
    "</details>"
   ]
  },
  {
   "cell_type": "code",
   "execution_count": 42,
   "id": "30d3a66f-78f4-4948-be31-422252ff8969",
   "metadata": {},
   "outputs": [
    {
     "data": {
      "text/plain": [
       "[1, 5, 3, 9, 2, 8, 4, 7, 6]"
      ]
     },
     "execution_count": 42,
     "metadata": {},
     "output_type": "execute_result"
    }
   ],
   "source": [
    "from pyspark import SparkContext\n",
    "\n",
    "sc = SparkContext.getOrCreate()\n",
    "numbers = sc.parallelize([1, 5, 3, 9, 2, 8, 4, 7, 6], numSlices=3)\n",
    "numbers.collect()"
   ]
  },
  {
   "cell_type": "code",
   "execution_count": null,
   "id": "d2da63aa-54c2-49e5-8964-a2aefff2ae21",
   "metadata": {},
   "outputs": [],
   "source": [
    "# glom()은 각 파티션의 내용을 리스트로 감싸서 반환\n",
    "# 즉, 파티션 간의 이동이 없고, 내부 자료구조만 바꾸는 연산\n",
    "# glom()은 RDD의 각 파티션을 배열 형태로 변환하는 narrow transformation"
   ]
  },
  {
   "cell_type": "code",
   "execution_count": 43,
   "id": "d91059e5-bf4c-4bcb-bc03-b9a548c73048",
   "metadata": {},
   "outputs": [
    {
     "data": {
      "text/plain": [
       "[[1, 5, 3], [9, 2, 8], [4, 7, 6]]"
      ]
     },
     "execution_count": 43,
     "metadata": {},
     "output_type": "execute_result"
    }
   ],
   "source": [
    "\n",
    "numbers.glom().collect()"
   ]
  },
  {
   "cell_type": "code",
   "execution_count": null,
   "id": "546bd895-d2ec-4dfc-9f5d-c0f77b9cb09a",
   "metadata": {},
   "outputs": [],
   "source": [
    "\n",
    "numbers = sc.parallelize([1, 5, 3, 9, 2, 8, 4, 7, 6])"
   ]
  },
  {
   "cell_type": "code",
   "execution_count": 44,
   "id": "8ab8237c-f16e-4ccf-82dd-e620e4ddc37b",
   "metadata": {},
   "outputs": [
    {
     "data": {
      "text/plain": [
       "(45, 9)"
      ]
     },
     "execution_count": 44,
     "metadata": {},
     "output_type": "execute_result"
    }
   ],
   "source": [
    "# 평균 계산하기\n",
    "sum_count = numbers.aggregate(\n",
    "    (0, 0),  # 초기값 (합계, 개수)\n",
    "    lambda acc, value: (acc[0] + value, acc[1] + 1),  # 각 파티션 내 연산\n",
    "    lambda acc1, acc2: (acc1[0] + acc2[0], acc1[1] + acc2[1])  # 파티션 간 연산\n",
    ")\n",
    "sum_count"
   ]
  },
  {
   "cell_type": "markdown",
   "id": "4901231a-2d68-46a8-b4b2-edb4273d9329",
   "metadata": {},
   "source": [
    "🧠 전체 흐름: 3단계\n",
    "🔹 1단계. RDD를 파티션으로 나눈다\n",
    "RDD 데이터:\n",
    "\n",
    "python\n",
    "```\n",
    "[1, 5, 3, 9, 2, 8, 4, 7, 6]\n",
    "3개의 파티션으로 나뉘었을 때 (Spark가 자동으로 나누지만 예시):\n",
    "\n",
    "P0: [1, 5, 3]\n",
    "\n",
    "P1: [9, 2, 8]\n",
    "\n",
    "P2: [4, 7, 6]\n",
    "```\n",
    "🔹 2단계. 각 파티션 내부에서 seqOp 실행\n",
    "```\n",
    "lambda acc, value: (acc[0] + value, acc[1] + 1)\n",
    "이 함수는 각 파티션 안에서 값을 누적하는 역할을 한다.\n",
    "초기값은 (0, 0)으로, 첫 번째는 합계, 두 번째는 개수를 의미한다.\n",
    "\n",
    "▶ P0 파티션 [1, 5, 3]\n",
    "시작: (0, 0)\n",
    "\n",
    "(0 + 1, 0 + 1) → (1, 1)\n",
    "\n",
    "(1 + 5, 1 + 1) → (6, 2)\n",
    "\n",
    "(6 + 3, 2 + 1) → (9, 3)\n",
    "```   \n",
    "✅ 결과: (9, 3)\n",
    "\n",
    "--\n",
    "```\n",
    "▶ P1 파티션 [9, 2, 8]\n",
    "시작: (0, 0)\n",
    "\n",
    "(0 + 9, 0 + 1) → (9, 1)\n",
    "\n",
    "(9 + 2, 1 + 1) → (11, 2)\n",
    "\n",
    "(11 + 8, 2 + 1) → (19, 3)\n",
    "```   \n",
    "✅ 결과: (19, 3)\n",
    "\n",
    "--\n",
    "```\n",
    "▶ P2 파티션 [4, 7, 6]\n",
    "시작: (0, 0)\n",
    "\n",
    "(0 + 4, 0 + 1) → (4, 1)\n",
    "\n",
    "(4 + 7, 1 + 1) → (11, 2)\n",
    "\n",
    "(11 + 6, 2 + 1) → (17, 3)\n",
    "```   \n",
    "✅ 결과: (17, 3)\n",
    "\n",
    "--\n",
    "🔹 3단계. 파티션 간 결과 병합 (combOp 실행)\n",
    "```\n",
    "lambda acc1, acc2: (acc1[0] + acc2[0], acc1[1] + acc2[1])\n",
    "이 함수는 파티션들의 중간 결과를 최종적으로 합친다.\n",
    "\n",
    "P0 + P1 → (9 + 19, 3 + 3) → (28, 6)\n",
    "\n",
    "(28, 6) + P2 → (28 + 17, 6 + 3) → (45, 9)\n",
    "```   \n",
    "✅ 최종 결과\n",
    "```\n",
    "sum_count = (45, 9)\n",
    "```   \n",
    "즉,   \n",
    "\n",
    "전체 합계: 45   \n",
    "전체 개수: 9   \n",
    "평균: 45 / 9 = 5.0\n",
    "\n",
    "\n"
   ]
  },
  {
   "cell_type": "code",
   "execution_count": 45,
   "id": "00d03813-e6a2-4183-85a4-a347bdb93ca8",
   "metadata": {},
   "outputs": [
    {
     "name": "stdout",
     "output_type": "stream",
     "text": [
      "Average: 5.0\n"
     ]
    }
   ],
   "source": [
    "average = sum_count[0] / sum_count[1]\n",
    "print(\"Average:\", average)  # 5.0"
   ]
  },
  {
   "cell_type": "code",
   "execution_count": 46,
   "id": "d893d8cc-db2d-465b-817e-4713ae3f7747",
   "metadata": {},
   "outputs": [],
   "source": [
    "\n",
    "# agg 연습\n",
    "data = [\"hello\", \"world\", \"spark\"]\n",
    "rdd = sc.parallelize(data)\n",
    "\n",
    "def seq_op(acc, value):\n",
    "    text, idx = acc\n",
    "    return (f\"{text} {idx}:{value}\".strip(), idx + 1)\n",
    "\n",
    "def comb_op(acc1, acc2):\n",
    "    # 줄 번호 이어붙이기: 앞쪽 text 유지 + 뒤쪽 text 뒤에 붙이기\n",
    "    text1, idx1 = acc1\n",
    "    text2, idx2 = acc2\n",
    "    # 줄 번호 충돌 피하려면 idx 조정 필요 (복잡하므로 단순히 붙임)\n",
    "    return (f\"{text1} {text2}\".strip(), idx1 + idx2)"
   ]
  },
  {
   "cell_type": "code",
   "execution_count": null,
   "id": "5863690e-7e9e-4df3-b2b3-ecc20592cd58",
   "metadata": {},
   "outputs": [],
   "source": [
    "\n",
    "zero = (\"\", 1)\n",
    "\n",
    "result = rdd.aggregate(zero, seq_op, comb_op)[0]\n",
    "print(result)"
   ]
  },
  {
   "cell_type": "code",
   "execution_count": null,
   "id": "3e75da46-5cfa-4121-aed0-b03c944eebd0",
   "metadata": {},
   "outputs": [],
   "source": [
    "\n",
    "rdd = sc.parallelize([\"spark\", \"hadoop\", \"ai\", \"python\", \"sql\"])\n",
    "result = rdd.aggregate(zero, seq_op, comb_op)[0]\n",
    "print(result)"
   ]
  },
  {
   "cell_type": "code",
   "execution_count": null,
   "id": "3eae6a27-154f-4549-a196-68c9ae048735",
   "metadata": {},
   "outputs": [],
   "source": [
    "# 길이가 5 이상인 문자열 개수 세기\n",
    "rdd = sc.parallelize([\"spark\", \"hadoop\", \"ai\", \"python\", \"sql\"])\n",
    "\n",
    "result = rdd.aggregate(\n",
    "    0,\n",
    "    lambda acc, value: acc + (1 if len(value) >= 5 else 0),\n",
    "    lambda acc1, acc2: acc1 + acc2\n",
    ")\n",
    "\n",
    "print(\"길이 5 이상인 문자열 개수:\", result)"
   ]
  },
  {
   "cell_type": "code",
   "execution_count": null,
   "id": "f123cdec-21d2-4cf0-8640-5e4aa8e5e853",
   "metadata": {},
   "outputs": [],
   "source": []
  },
  {
   "cell_type": "code",
   "execution_count": 48,
   "id": "6680821d-3b05-4c6f-9ff6-0267a701a571",
   "metadata": {},
   "outputs": [],
   "source": [
    "spark.stop() #Sparksession\n",
    "sc.stop() #SparkContext"
   ]
  },
  {
   "cell_type": "code",
   "execution_count": null,
   "id": "46b41637-d98b-4d6d-abcf-a7f047139e5f",
   "metadata": {},
   "outputs": [],
   "source": []
  }
 ],
 "metadata": {
  "kernelspec": {
   "display_name": "Python 3 (ipykernel)",
   "language": "python",
   "name": "python3"
  },
  "language_info": {
   "codemirror_mode": {
    "name": "ipython",
    "version": 3
   },
   "file_extension": ".py",
   "mimetype": "text/x-python",
   "name": "python",
   "nbconvert_exporter": "python",
   "pygments_lexer": "ipython3",
   "version": "3.11.6"
  }
 },
 "nbformat": 4,
 "nbformat_minor": 5
}
